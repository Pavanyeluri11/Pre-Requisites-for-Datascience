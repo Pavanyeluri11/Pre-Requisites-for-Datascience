{
 "cells": [
  {
   "cell_type": "markdown",
   "id": "51302482",
   "metadata": {},
   "source": [
    "# Statistics Problems Solved Using python"
   ]
  },
  {
   "cell_type": "markdown",
   "id": "26893758",
   "metadata": {},
   "source": [
    "\n",
    "***This notebook contains Solutions to the statistics problems solved on hackerRank.***\n",
    "\n",
    "[HackerRank Problem List](https://www.hackerrank.com/domains/tutorials/10-days-of-statistics)"
   ]
  },
  {
   "cell_type": "markdown",
   "id": "0769d34c",
   "metadata": {},
   "source": [
    "### Problem-1\n",
    "\n",
    "The ratio of boys to girls for babies born in Russia is 1.09:1 . If there is  child born per birth, what proportion of Russian families with exactly 6  children will have at least 3  boys?\n",
    "\n",
    "Write a program to compute the answer using the above parameters.\n",
    "\n",
    "Then print your result, rounded to a scale of 3 decimal places."
   ]
  },
  {
   "cell_type": "code",
   "execution_count": 1,
   "id": "07e90a86",
   "metadata": {},
   "outputs": [
    {
     "name": "stdout",
     "output_type": "stream",
     "text": [
      "0.696\n"
     ]
    }
   ],
   "source": [
    "import math\n",
    "\n",
    "def bi_dist(x, n, p):\n",
    "    b = (math.factorial(n)/(math.factorial(x)*math.factorial(n-x)))*(p**x)*((1-p)**(n-x))\n",
    "    return(b)\n",
    "\n",
    "b,n = 0,6\n",
    "p = 1.09/2.09\n",
    "for i in range(3,7):\n",
    "    b += bi_dist(i, n, p)\n",
    "print(round(b,3))"
   ]
  },
  {
   "cell_type": "markdown",
   "id": "83deb05d",
   "metadata": {},
   "source": [
    "### Problem-2\n",
    "\n",
    "A manufacturer of metal pistons finds that, on average 12% of the pistons they manufacture are rejected because they are incorrectly sized. What is the probability that a batch of 10  pistons will contain:\n",
    "\n",
    "* No more than 2  rejects?\n",
    "\n",
    "* At least 2  rejects?"
   ]
  },
  {
   "cell_type": "code",
   "execution_count": 7,
   "id": "d8561e6b",
   "metadata": {},
   "outputs": [
    {
     "name": "stdout",
     "output_type": "stream",
     "text": [
      "0.891\n",
      "0.342\n"
     ]
    }
   ],
   "source": [
    "def bi_dist(x, n, p):\n",
    "    b = (math.factorial(n)/(math.factorial(x)*math.factorial(n-x)))*(p**x)*((1-p)**(n-x))\n",
    "    return(b)\n",
    "\n",
    "n,p = 10,0.12\n",
    "b = 0\n",
    "for i in range(3):\n",
    "    b+=bi_dist(i,n,p)\n",
    "print(round(b,3))\n",
    "print(round(1-b+bi_dist(2,n,p),3))"
   ]
  },
  {
   "cell_type": "markdown",
   "id": "9e2fe40c",
   "metadata": {},
   "source": [
    "### Problem-3\n",
    "\n",
    "In a certain plant, the time taken to assemble a car is a random variable X, having a normal distribution with a mean of 12 hours and a standard deviation of 2 hours. What is the probability that a car can be assembled at this plant in:\n",
    "\n",
    "* Less than 19.5 hours?\n",
    "\n",
    "* Between 20 and 22 hours?"
   ]
  },
  {
   "cell_type": "code",
   "execution_count": 11,
   "id": "e6518705",
   "metadata": {},
   "outputs": [
    {
     "name": "stdout",
     "output_type": "stream",
     "text": [
      "0.401\n",
      "0.341\n"
     ]
    }
   ],
   "source": [
    "def normal_dist(x,mean,sd):\n",
    "    return 0.5 * (1 + math.erf((x - mean) / (sd * (2 ** 0.5))))\n",
    "\n",
    "print(round(normal_dist(19.5,20,2),3))\n",
    "print(round(normal_dist(22,20,2)-normal_dist(20,20,2),3))"
   ]
  },
  {
   "cell_type": "markdown",
   "id": "2c85a9a0",
   "metadata": {},
   "source": [
    "### Problem-4\n",
    "\n",
    "\n",
    "The final grades for a Physics exam taken by a large group of students have a mean of 70  and a standard deviation of 10. If we can approximate the distribution of these grades by a normal distribution, what percentage of the students:\n",
    "\n",
    "* Scored higher than  (i.e., have a grade>=80 )?\n",
    "\n",
    "* Passed the test (i.e., have a grade>=60)?\n",
    "\n",
    "* Failed the test (i.e., have a grade<60)?\n",
    "\n",
    "* Find and print the answer to each question on a new line, rounded to a scale of  decimal places"
   ]
  },
  {
   "cell_type": "code",
   "execution_count": 14,
   "id": "14591d70",
   "metadata": {},
   "outputs": [
    {
     "name": "stdout",
     "output_type": "stream",
     "text": [
      "15.87\n",
      "84.13\n",
      "15.87\n"
     ]
    }
   ],
   "source": [
    "def normal_dist(x,mean,sd):\n",
    "    return 0.5 * (1 + math.erf((x - mean) / (sd * (2 ** 0.5))))\n",
    "print(round((1-normal_dist(80,70,10))*100,2))\n",
    "print(round((1-normal_dist(60,70,10))*100,2))\n",
    "print(round((normal_dist(60,70,10))*100,2))\n"
   ]
  },
  {
   "cell_type": "markdown",
   "id": "f66132b1",
   "metadata": {},
   "source": [
    "### Problem-5\n",
    "\n",
    "A large elevator can transport a maximum of 9800  pounds. Suppose a load of cargo containing 49 boxes must be transported via the elevator. The box weight of this type of cargo follows a distribution with a mean of 205 pounds and a standard deviation of 15 pounds. Based on this information,\n",
    "* what is the probability that all 49 boxes can be safely loaded into the freight elevator and transported?"
   ]
  },
  {
   "cell_type": "code",
   "execution_count": 25,
   "id": "6eaaec35",
   "metadata": {},
   "outputs": [
    {
     "name": "stdout",
     "output_type": "stream",
     "text": [
      "0.0098\n"
     ]
    }
   ],
   "source": [
    "def normal_dist(x,mean,sd):\n",
    "    return 0.5 * (1 + math.erf((x - mean) / (sd * (2 ** 0.5))))\n",
    "n = 49\n",
    "mean,sd = 205,15\n",
    "mean_sum = n*mean\n",
    "sd_sum = math.sqrt(n)*sd\n",
    "print(round(normal_dist(9800,mean_sum,sd_sum),4))"
   ]
  },
  {
   "cell_type": "markdown",
   "id": "89c6d4e9",
   "metadata": {},
   "source": [
    "### Problem - 6\n",
    "\n",
    "The number of tickets purchased by each student for the University X vs. University Y football game follows a distribution that has a mean 2.4 of  and a standard deviation of 2.0 .\n",
    "A few hours before the game starts, 100 eager students line up to purchase 250 last-minute tickets. If there are only 100  tickets left, \n",
    "\n",
    "\n",
    "* what is the probability that all 100 students will be able to purchase tickets?"
   ]
  },
  {
   "cell_type": "code",
   "execution_count": 27,
   "id": "24f6a120",
   "metadata": {},
   "outputs": [
    {
     "name": "stdout",
     "output_type": "stream",
     "text": [
      "0.6915\n"
     ]
    }
   ],
   "source": [
    "def normal_dist(x,mean,sd):\n",
    "    return 0.5 * (1 + math.erf((x - mean) / (sd * (2 ** 0.5))))\n",
    "n = 100\n",
    "mean,sd = 2.4,2.0\n",
    "mean_sum = n*mean\n",
    "sd_sum = math.sqrt(n)*sd\n",
    "print(round(normal_dist(250,mean_sum,sd_sum),4))"
   ]
  },
  {
   "cell_type": "markdown",
   "id": "3233c626",
   "metadata": {},
   "source": [
    "### Problem - 7\n",
    "\n",
    "You have a sample of 100 values from a population with mean 500 and with standard deviation 80. Compute the interval that covers the middle 95%  of the distribution of the sample mean;\n",
    "\n",
    "in other words, compute A and B such that P(A<X<B) = 0.95 . Use the value of z=1.96 . Note that z is the z-score."
   ]
  },
  {
   "cell_type": "code",
   "execution_count": 29,
   "id": "cb948ce6",
   "metadata": {},
   "outputs": [
    {
     "name": "stdout",
     "output_type": "stream",
     "text": [
      "484.32\n",
      "515.68\n"
     ]
    }
   ],
   "source": [
    "n = 100\n",
    "mean_sum = 500\n",
    "sd_sum = 80/(n**0.5)\n",
    "z = 1.96\n",
    "print(round((mean_sum - sd_sum*z),2))\n",
    "print(round((mean_sum + sd_sum*z),2))\n",
    "\n",
    "\n"
   ]
  },
  {
   "cell_type": "markdown",
   "id": "64e74c84",
   "metadata": {},
   "source": [
    "### Problem - 8\n",
    "\n",
    "* Calculation of pearson correlation coefficient"
   ]
  },
  {
   "cell_type": "code",
   "execution_count": 32,
   "id": "987c4c34",
   "metadata": {},
   "outputs": [
    {
     "name": "stdout",
     "output_type": "stream",
     "text": [
      "10\n",
      "10 9.8 8 7.8 7.7 7 6 5 4 2 \n",
      "200 44 32 24 22 17 15 12 8 4\n",
      "0.612\n"
     ]
    }
   ],
   "source": [
    "N = int(input())\n",
    "X = list(map(float,input().strip().split()))\n",
    "Y = list(map(float,input().strip().split()))\n",
    "\n",
    "mean_x = sum(X) / N\n",
    "mean_y = sum(Y) / N\n",
    "\n",
    "std_x = (sum([(i - mean_x)**2 for i in X]) / N)**0.5\n",
    "std_y = (sum([(i - mean_y)**2 for i in Y]) / N)**0.5\n",
    "\n",
    "\n",
    "covariance = sum([(X[i] - mean_x) * (Y[i] -mean_y) for i in range(N)])/N\n",
    "\n",
    "correlation_coefficient = covariance / (std_x * std_y)\n",
    "\n",
    "print(round(correlation_coefficient,3))"
   ]
  },
  {
   "cell_type": "markdown",
   "id": "2d12afc0",
   "metadata": {},
   "source": [
    "### Problem-9\n",
    "\n",
    "#### Linear Regression"
   ]
  },
  {
   "cell_type": "code",
   "execution_count": 62,
   "id": "0628fe75",
   "metadata": {},
   "outputs": [
    {
     "name": "stdout",
     "output_type": "stream",
     "text": [
      "78.288\n"
     ]
    }
   ],
   "source": [
    "from statistics import mean, pstdev\n",
    "\n",
    "def pearson(x, y):\n",
    "    mx, sx, my, sy = mean(x), pstdev(x), mean(y), pstdev(y)\n",
    "    return sum((xi - mx) * (yi - my) for xi, yi in zip(x, y)) / (len(x) * sx * sy)\n",
    "\n",
    "\n",
    "def linear_regression(x, y):\n",
    "    b = pearson(x, y) * pstdev(y) / pstdev(x)\n",
    "    return mean(y) - b * mean(x), b\n",
    "\n",
    "x = [95,85,80,70,60]\n",
    "y = [85,95,70,65,70]\n",
    "\n",
    "a, b = linear_regression(x, y)\n",
    "print(f'{a+b*80:.3f}')"
   ]
  },
  {
   "cell_type": "markdown",
   "id": "ce81cd07",
   "metadata": {},
   "source": [
    "### Problem-10\n",
    "#### Multiple Linear Regression"
   ]
  },
  {
   "cell_type": "code",
   "execution_count": 63,
   "id": "2184774f",
   "metadata": {},
   "outputs": [
    {
     "name": "stdout",
     "output_type": "stream",
     "text": [
      "2 7\n",
      "0.18 0.89 109.85\n",
      "1.0 0.26 155.72\n",
      "0.92 0.11 137.66\n",
      "0.07 0.37 76.17\n",
      "0.85 0.16 139.75\n",
      "0.99 0.41 162.6\n",
      "0.87 0.47 151.77\n",
      "4\n",
      "0.49 0.18\n",
      "0.57 0.83\n",
      "0.56 0.64\n",
      "0.76 0.18\n",
      "105.21\n",
      "142.67\n",
      "132.94\n",
      "129.7\n"
     ]
    }
   ],
   "source": [
    "import numpy as np\n",
    "m,n = [int(i) for i in input().strip().split(' ')]\n",
    "X = []\n",
    "Y = []\n",
    "for i in range(n):\n",
    "    data = input().strip().split(' ')\n",
    "    X.append(data[:m])\n",
    "    Y.append(data[m:])\n",
    "q = int(input().strip())\n",
    "X_new = []\n",
    "for x in range(q):\n",
    "    X_new.append(input().strip().split(' '))\n",
    "X = np.array(X,float)\n",
    "Y = np.array(Y,float)\n",
    "X_new = np.array(X_new,float)\n",
    "\n",
    "#center\n",
    "X_R = X-np.mean(X,axis=0)\n",
    "Y_R = Y-np.mean(Y)\n",
    "\n",
    "#calculate beta\n",
    "beta = np.dot(np.linalg.inv(np.dot(X_R.T,X_R)),np.dot(X_R.T,Y_R))\n",
    "\n",
    "#predict\n",
    "X_new_R = X_new-np.mean(X,axis=0)\n",
    "Y_new_R = np.dot(X_new_R,beta)\n",
    "Y_new = Y_new_R + np.mean(Y)\n",
    "\n",
    "#print\n",
    "for i in Y_new:\n",
    "    print(round(float(i),2))"
   ]
  }
 ],
 "metadata": {
  "kernelspec": {
   "display_name": "Python 3 (ipykernel)",
   "language": "python",
   "name": "python3"
  },
  "language_info": {
   "codemirror_mode": {
    "name": "ipython",
    "version": 3
   },
   "file_extension": ".py",
   "mimetype": "text/x-python",
   "name": "python",
   "nbconvert_exporter": "python",
   "pygments_lexer": "ipython3",
   "version": "3.8.2"
  }
 },
 "nbformat": 4,
 "nbformat_minor": 5
}
