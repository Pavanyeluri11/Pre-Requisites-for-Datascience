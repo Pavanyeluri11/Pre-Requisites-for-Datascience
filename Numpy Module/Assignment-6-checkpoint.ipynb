{
 "cells": [
  {
   "cell_type": "markdown",
   "id": "f362b031",
   "metadata": {},
   "source": [
    "# Assignment-6\n",
    "\n",
    "\n",
    "*This Notebook Contains solutions to the hackerrank problems on numpy module.*\n",
    "\n",
    "[HackerRank ProblemSet on Numpy](https://www.hackerrank.com/domains/python?filters%5Bsubdomains%5D%5B%5D=numpy)"
   ]
  },
  {
   "cell_type": "code",
   "execution_count": 1,
   "id": "3b3b834b",
   "metadata": {},
   "outputs": [],
   "source": [
    "import numpy as np"
   ]
  },
  {
   "cell_type": "markdown",
   "id": "914c2b99",
   "metadata": {},
   "source": [
    "### Problem-1"
   ]
  },
  {
   "cell_type": "code",
   "execution_count": 2,
   "id": "384a331d",
   "metadata": {},
   "outputs": [
    {
     "name": "stdout",
     "output_type": "stream",
     "text": [
      "[6. 3. 7. 5. 2.]\n"
     ]
    }
   ],
   "source": [
    "def arrays(arr):\n",
    "    a = np.array(arr,dtype=float)\n",
    "    return a[::-1]\n",
    "arr = [2,5,7,3,6]\n",
    "print(arrays(arr))"
   ]
  },
  {
   "cell_type": "markdown",
   "id": "72c99d7f",
   "metadata": {},
   "source": [
    "### Problem-2"
   ]
  },
  {
   "cell_type": "code",
   "execution_count": 3,
   "id": "f919b6b3",
   "metadata": {},
   "outputs": [
    {
     "name": "stdout",
     "output_type": "stream",
     "text": [
      "[[0 1 2]\n",
      " [3 4 5]\n",
      " [6 7 8]]\n"
     ]
    }
   ],
   "source": [
    "arr = list(range(9))\n",
    "arr = np.array(arr)\n",
    "print(arr.reshape(3,3))"
   ]
  },
  {
   "cell_type": "markdown",
   "id": "47cabdc8",
   "metadata": {},
   "source": [
    "### Problem-3"
   ]
  },
  {
   "cell_type": "code",
   "execution_count": 4,
   "id": "ad1d3ffc",
   "metadata": {},
   "outputs": [
    {
     "name": "stdout",
     "output_type": "stream",
     "text": [
      "2 2\n",
      "1 2\n",
      "3 4\n",
      "[[1 3]\n",
      " [2 4]]\n",
      "[1 2 3 4]\n"
     ]
    }
   ],
   "source": [
    "n,m = map(int,input().split())\n",
    "l = []\n",
    "for i in range(n):\n",
    "    a = list(map(int,input().split()))\n",
    "    l.append(a)\n",
    "l = np.array(l)\n",
    "print(np.transpose(l))\n",
    "print(l.flatten())"
   ]
  },
  {
   "cell_type": "markdown",
   "id": "84bcd8c0",
   "metadata": {},
   "source": [
    "### Problem-4"
   ]
  },
  {
   "cell_type": "code",
   "execution_count": 5,
   "id": "c4a92b85",
   "metadata": {},
   "outputs": [
    {
     "name": "stdout",
     "output_type": "stream",
     "text": [
      "3 3\n",
      "[[0 0 0]\n",
      " [0 0 0]\n",
      " [0 0 0]]\n",
      "[[1 1 1]\n",
      " [1 1 1]\n",
      " [1 1 1]]\n"
     ]
    }
   ],
   "source": [
    "t = tuple(map(int,input().split()))\n",
    "print(np.zeros(t,dtype=int),np.ones(t,dtype=int),sep='\\n')\n",
    "\n"
   ]
  },
  {
   "cell_type": "markdown",
   "id": "005f7fcd",
   "metadata": {},
   "source": [
    "### Problem-5"
   ]
  },
  {
   "cell_type": "code",
   "execution_count": 6,
   "id": "551cb8fe",
   "metadata": {},
   "outputs": [
    {
     "name": "stdout",
     "output_type": "stream",
     "text": [
      "3 2\n",
      "[[1. 0.]\n",
      " [0. 1.]\n",
      " [0. 0.]]\n"
     ]
    }
   ],
   "source": [
    "n,m = [int(x) for x in input().split()]\n",
    "print(np.eye(n,m))"
   ]
  },
  {
   "cell_type": "markdown",
   "id": "0a8cf484",
   "metadata": {},
   "source": [
    "### Problem-6"
   ]
  },
  {
   "cell_type": "code",
   "execution_count": 7,
   "id": "e77c671f",
   "metadata": {},
   "outputs": [
    {
     "name": "stdout",
     "output_type": "stream",
     "text": [
      "1 4\n",
      "1 2 3 4\n",
      "5 6 7 8\n",
      "[[ 6  8 10 12]]\n",
      "[[-4 -4 -4 -4]]\n",
      "[[ 5 12 21 32]]\n",
      "[[0 0 0 0]]\n",
      "[[1 2 3 4]]\n",
      "[[    1    64  2187 65536]]\n"
     ]
    }
   ],
   "source": [
    "n, m = map(int, input().split())\n",
    "a, b = (np.array([input().split() for _ in range(n)], dtype=int) for _ in range(2))\n",
    "print(a+b, a-b, a*b, a//b, a%b, a**b, sep='\\n')"
   ]
  },
  {
   "cell_type": "markdown",
   "id": "6985150c",
   "metadata": {},
   "source": [
    "### Problem-7"
   ]
  },
  {
   "cell_type": "code",
   "execution_count": 8,
   "id": "cd2ae07a",
   "metadata": {},
   "outputs": [
    {
     "name": "stdout",
     "output_type": "stream",
     "text": [
      "1.1 2.2 3.3 4.4 5.5 6.6 7.7 8.8 9.9\n",
      "[ 1.  2.  3.  4.  5.  6.  7.  8.  9.]\n",
      "[  2.   3.   4.   5.   6.   7.   8.   9.  10.]\n",
      "[  1.   2.   3.   4.   6.   7.   8.   9.  10.]\n"
     ]
    }
   ],
   "source": [
    "np.set_printoptions(legacy='1.13')\n",
    "arr = np.array([x for x in input().split()],dtype = float)\n",
    "print(np.floor(arr))\n",
    "print(np.ceil(arr))\n",
    "print(np.rint(arr))"
   ]
  },
  {
   "cell_type": "markdown",
   "id": "d6abc93e",
   "metadata": {},
   "source": [
    "### Problem-8"
   ]
  },
  {
   "cell_type": "code",
   "execution_count": 9,
   "id": "b0ebcd77",
   "metadata": {},
   "outputs": [
    {
     "name": "stdout",
     "output_type": "stream",
     "text": [
      "2 2\n",
      "1 2\n",
      "3 4\n",
      "24\n"
     ]
    }
   ],
   "source": [
    "n,m = tuple(map(int,input().split()))\n",
    "print(np.prod(np.sum(np.array([input().split() for _ in range(n)],dtype=int),axis=0)))"
   ]
  },
  {
   "cell_type": "markdown",
   "id": "899a47dd",
   "metadata": {},
   "source": [
    "### Problem-9"
   ]
  },
  {
   "cell_type": "code",
   "execution_count": 10,
   "id": "b9af5302",
   "metadata": {},
   "outputs": [
    {
     "name": "stdout",
     "output_type": "stream",
     "text": [
      "2 2\n",
      "1 2\n",
      "3 4\n",
      "3\n"
     ]
    }
   ],
   "source": [
    "n,m = tuple(map(int,input().split()))\n",
    "print(np.max(np.min(np.array([input().split() for _ in range(n)],dtype=int),axis=1)))"
   ]
  },
  {
   "cell_type": "markdown",
   "id": "90f22a8e",
   "metadata": {},
   "source": [
    "### Problem-10"
   ]
  },
  {
   "cell_type": "code",
   "execution_count": 11,
   "id": "bb5c2786",
   "metadata": {},
   "outputs": [
    {
     "name": "stdout",
     "output_type": "stream",
     "text": [
      "3 3\n",
      "1 2 3\n",
      "4 5 6\n",
      "7 8 9\n",
      "[ 2.  5.  8.]\n",
      "[ 6.  6.  6.]\n",
      "2.58198889747\n"
     ]
    }
   ],
   "source": [
    "n,m = tuple(map(int,input().split()))\n",
    "a = np.array([input().split() for _ in range(n)],dtype=int)\n",
    "print(np.mean(a,axis=1),np.var(a,axis=0),np.round(np.std(a),decimals=11),sep='\\n')"
   ]
  },
  {
   "cell_type": "markdown",
   "id": "0e05998c",
   "metadata": {},
   "source": [
    "### Problem-11"
   ]
  },
  {
   "cell_type": "code",
   "execution_count": 12,
   "id": "3ca222b9",
   "metadata": {},
   "outputs": [
    {
     "name": "stdout",
     "output_type": "stream",
     "text": [
      "3\n",
      "1 2 3\n",
      "1 2 3\n",
      "4 5 6\n",
      "4 5 6\n",
      "7 8 9\n",
      "7 8 9\n",
      "[[ 39  45  51]\n",
      " [ 39  45  51]\n",
      " [ 93 108 123]]\n"
     ]
    }
   ],
   "source": [
    "n = int(input())\n",
    "a,b = (np.array([input().split() for _ in range(n)],dtype=int) for _ in range(2))\n",
    "print(np.dot(a,b))"
   ]
  },
  {
   "cell_type": "markdown",
   "id": "5f2fdcd0",
   "metadata": {},
   "source": [
    "### Problem-12"
   ]
  },
  {
   "cell_type": "code",
   "execution_count": 16,
   "id": "17609de3",
   "metadata": {},
   "outputs": [
    {
     "name": "stdout",
     "output_type": "stream",
     "text": [
      "0 1\n",
      "2 3\n",
      "3\n",
      "[[0 0]\n",
      " [2 3]]\n"
     ]
    }
   ],
   "source": [
    "A = np.array(input().split(), int)\n",
    "B = np.array(input().split(), int)\n",
    "print(np.inner(A,B), np.outer(A,B), sep='\\n')"
   ]
  },
  {
   "cell_type": "markdown",
   "id": "a1f52fdc",
   "metadata": {},
   "source": [
    "### Problem-13"
   ]
  },
  {
   "cell_type": "code",
   "execution_count": 13,
   "id": "063f2930",
   "metadata": {},
   "outputs": [
    {
     "name": "stdout",
     "output_type": "stream",
     "text": [
      "1 6 5\n",
      "1\n",
      "12.0\n"
     ]
    }
   ],
   "source": [
    "a = np.array([i for i in input().split()],dtype=float)\n",
    "x = int(input())\n",
    "print(np.polyval(a,x))\n"
   ]
  },
  {
   "cell_type": "markdown",
   "id": "c4dc09a8",
   "metadata": {},
   "source": [
    "### Problem-14"
   ]
  },
  {
   "cell_type": "code",
   "execution_count": 15,
   "id": "6842634d",
   "metadata": {},
   "outputs": [
    {
     "name": "stdout",
     "output_type": "stream",
     "text": [
      "3\n",
      "1 2 3\n",
      "4 5 6\n",
      "7 8 9\n",
      "0.0\n"
     ]
    }
   ],
   "source": [
    "n = int(input())\n",
    "a = np.array([input().split() for _ in range(n)],dtype=float)\n",
    "print(np.round(np.linalg.det(a),decimals=2))\n"
   ]
  },
  {
   "cell_type": "markdown",
   "id": "fcc76ce9",
   "metadata": {},
   "source": [
    "### Problem-15"
   ]
  },
  {
   "cell_type": "code",
   "execution_count": 17,
   "id": "fe94b49c",
   "metadata": {},
   "outputs": [
    {
     "name": "stdout",
     "output_type": "stream",
     "text": [
      "4 3 2\n",
      "1 2\n",
      "1 2\n",
      "1 2\n",
      "1 2\n",
      "3 4\n",
      "3 4\n",
      "3 4\n",
      "[[1 2]\n",
      " [1 2]\n",
      " [1 2]\n",
      " [1 2]\n",
      " [3 4]\n",
      " [3 4]\n",
      " [3 4]]\n"
     ]
    }
   ],
   "source": [
    "n,m,p = tuple(map(int,input().split()))\n",
    "A = np.array([input().split() for _ in range(n)],dtype = int)\n",
    "B = np.array([input().split() for _ in range(m)],dtype = int)\n",
    "print(np.vstack((A,B)))"
   ]
  }
 ],
 "metadata": {
  "kernelspec": {
   "display_name": "Python 3 (ipykernel)",
   "language": "python",
   "name": "python3"
  },
  "language_info": {
   "codemirror_mode": {
    "name": "ipython",
    "version": 3
   },
   "file_extension": ".py",
   "mimetype": "text/x-python",
   "name": "python",
   "nbconvert_exporter": "python",
   "pygments_lexer": "ipython3",
   "version": "3.8.2"
  }
 },
 "nbformat": 4,
 "nbformat_minor": 5
}
