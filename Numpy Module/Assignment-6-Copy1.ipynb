{
 "cells": [
  {
   "cell_type": "markdown",
   "id": "125b6eb8",
   "metadata": {},
   "source": [
    "# Assignment-5"
   ]
  },
  {
   "cell_type": "code",
   "execution_count": 1,
   "id": "7618443e",
   "metadata": {},
   "outputs": [],
   "source": [
    "import numpy as np"
   ]
  },
  {
   "cell_type": "code",
   "execution_count": 3,
   "id": "371e9fe8",
   "metadata": {},
   "outputs": [
    {
     "name": "stdout",
     "output_type": "stream",
     "text": [
      "[6. 3. 7. 5. 2.]\n"
     ]
    }
   ],
   "source": [
    "def arrays(arr):\n",
    "    a = np.array(arr,dtype=float)\n",
    "    return a[::-1]\n",
    "arr = [2,5,7,3,6]\n",
    "print(arrays(arr))"
   ]
  },
  {
   "cell_type": "code",
   "execution_count": 5,
   "id": "2df88c32",
   "metadata": {},
   "outputs": [
    {
     "name": "stdout",
     "output_type": "stream",
     "text": [
      "[[0 1 2]\n",
      " [3 4 5]\n",
      " [6 7 8]]\n"
     ]
    }
   ],
   "source": [
    "arr = list(range(9))\n",
    "arr = np.array(arr)\n",
    "print(arr.reshape(3,3))"
   ]
  },
  {
   "cell_type": "code",
   "execution_count": 6,
   "id": "7c4c9e3b",
   "metadata": {},
   "outputs": [
    {
     "name": "stdout",
     "output_type": "stream",
     "text": [
      "2 2\n",
      "1 2\n",
      "3 4\n",
      "[[1 3]\n",
      " [2 4]]\n",
      "[1 2 3 4]\n"
     ]
    }
   ],
   "source": [
    "n,m = map(int,input().split())\n",
    "l = []\n",
    "for i in range(n):\n",
    "    a = list(map(int,input().split()))\n",
    "    l.append(a)\n",
    "l = np.array(l)\n",
    "print(np.transpose(l))\n",
    "print(l.flatten())"
   ]
  },
  {
   "cell_type": "code",
   "execution_count": 8,
   "id": "93ad82e6",
   "metadata": {},
   "outputs": [
    {
     "name": "stdout",
     "output_type": "stream",
     "text": [
      "2 2 2\n",
      "[[[0 0]\n",
      "  [0 0]]\n",
      "\n",
      " [[0 0]\n",
      "  [0 0]]]\n",
      "[[[1 1]\n",
      "  [1 1]]\n",
      "\n",
      " [[1 1]\n",
      "  [1 1]]]\n"
     ]
    }
   ],
   "source": [
    "t = tuple(map(int,input().split()))\n",
    "print(np.zeros(t,dtype=int),np.ones(t,dtype=int),sep='\\n')\n",
    "\n"
   ]
  },
  {
   "cell_type": "code",
   "execution_count": 9,
   "id": "f3af073a",
   "metadata": {},
   "outputs": [
    {
     "name": "stdout",
     "output_type": "stream",
     "text": [
      "3 3\n",
      "[[1. 0. 0.]\n",
      " [0. 1. 0.]\n",
      " [0. 0. 1.]]\n"
     ]
    }
   ],
   "source": [
    "n,m = [int(x) for x in input().split()]\n",
    "print(np.eye(n,m))"
   ]
  },
  {
   "cell_type": "code",
   "execution_count": null,
   "id": "0a6308de",
   "metadata": {},
   "outputs": [],
   "source": []
  }
 ],
 "metadata": {
  "kernelspec": {
   "display_name": "Python 3 (ipykernel)",
   "language": "python",
   "name": "python3"
  },
  "language_info": {
   "codemirror_mode": {
    "name": "ipython",
    "version": 3
   },
   "file_extension": ".py",
   "mimetype": "text/x-python",
   "name": "python",
   "nbconvert_exporter": "python",
   "pygments_lexer": "ipython3",
   "version": "3.8.2"
  }
 },
 "nbformat": 4,
 "nbformat_minor": 5
}
